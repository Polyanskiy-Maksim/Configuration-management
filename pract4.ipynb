{
  "cells": [
    {
      "cell_type": "markdown",
      "metadata": {
        "id": "97BoOoFBQCZO"
      },
      "source": [
        "# Практическое занятие №4\n",
        "\n",
        "*П.Н. Советов, РТУ МИРЭА*"
      ]
    },
    {
      "cell_type": "markdown",
      "metadata": {
        "id": "8Xgt7Wx1QCZT"
      },
      "source": [
        "## 1. Некоторые операции с классами и объектами"
      ]
    },
    {
      "cell_type": "markdown",
      "metadata": {
        "id": "NuWzS2N5QCZT"
      },
      "source": [
        "**1.1.** (уровень сложности: простейший)\n",
        "\n",
        "Напишите код, который выведет на экране все имена полей объекта произвольного пользовательского класса, кроме служебных имен."
      ]
    },
    {
      "cell_type": "code",
      "source": [
        "class MyClass:\n",
        "    def __init__(self):\n",
        "        self.field1 = \"value1\"  # Обычное поле объекта\n",
        "        self.field2 = \"value2\"  # Обычное поле объекта\n",
        "        self._private_field = \"private\"  # Поле с единственным подчеркиванием, считается \"полу-приватным\"\n",
        "        self.__private_field = \"private2\"  # Поле с двойным подчеркиванием, считается \"приватным\"\n",
        "\n",
        "# Создаем объект класса MyClass\n",
        "obj = MyClass()\n",
        "\n",
        "# Получаем список всех атрибутов объекта, исключая те, которые начинаются с подчеркиваний (служебные)\n",
        "fields = [field for field in dir(obj) if not field.startswith('_')]\n",
        "\n",
        "# Выводим полученный список полей\n",
        "print(fields)\n"
      ],
      "metadata": {
        "colab": {
          "base_uri": "https://localhost:8080/"
        },
        "id": "sHS14SYdQEwQ",
        "outputId": "3ef42341-090b-41a9-fb4d-a51c31639a7a"
      },
      "execution_count": 1,
      "outputs": [
        {
          "output_type": "stream",
          "name": "stdout",
          "text": [
            "['field1', 'field2']\n"
          ]
        }
      ]
    },
    {
      "cell_type": "markdown",
      "metadata": {
        "id": "HcP5Yx-9QCZU"
      },
      "source": [
        "**1.2.** (уровень сложности: простейший)\n",
        "\n",
        "Напишите код, который по имени метода, заданному строкой, вызовет этот метод в объекте некоторого пользовательского класса."
      ]
    },
    {
      "cell_type": "code",
      "source": [
        "class MyClass:\n",
        "    def my_method(self):\n",
        "        print(\"Метод вызван!\")  # Печатает сообщение, когда метод вызывается\n",
        "\n",
        "# Создаем объект класса MyClass\n",
        "obj = MyClass()\n",
        "\n",
        "# Указываем имя метода как строку\n",
        "method_name = \"my_method\"\n",
        "\n",
        "# Используем функцию getattr, чтобы получить метод по имени и вызвать его\n",
        "getattr(obj, method_name)()  # Передаем объект и имя метода, затем вызываем его\n"
      ],
      "metadata": {
        "colab": {
          "base_uri": "https://localhost:8080/"
        },
        "id": "GOCnbK-LQRda",
        "outputId": "10b918ab-42d9-4847-e4dd-845e592805e2"
      },
      "execution_count": 2,
      "outputs": [
        {
          "output_type": "stream",
          "name": "stdout",
          "text": [
            "Метод вызван!\n"
          ]
        }
      ]
    },
    {
      "cell_type": "markdown",
      "metadata": {
        "id": "R4cvfenhQCZU"
      },
      "source": [
        "**1.3.** (уровень сложности: простейший)\n",
        "\n",
        "С кодом ниже что-то не так. Что именно неправильно и как это исправить?\n",
        "\n",
        "```Python\n",
        "class A:\n",
        "    pass  # Пустой базовый класс A\n",
        "\n",
        "class B(A):  # Класс B наследуется от A\n",
        "    pass\n",
        "\n",
        "class C(A, B):  # Класс C пытается наследовать от обоих классов A и B\n",
        "    pass\n",
        "\n",
        "```"
      ]
    },
    {
      "cell_type": "code",
      "source": [
        "class A:\n",
        "    pass\n",
        "\n",
        "class B(A):\n",
        "    pass\n",
        "\n",
        "class C(B, A):  # Класс C теперь наследует только от B, а B уже наследует от A\n",
        "    pass\n"
      ],
      "metadata": {
        "id": "fGXLAl7WQpz2"
      },
      "execution_count": 6,
      "outputs": []
    },
    {
      "cell_type": "markdown",
      "metadata": {
        "id": "uel_7qY8QCZV"
      },
      "source": [
        "**1.4.** (уровень сложности: низкий)\n",
        "\n",
        "Напишите функцию-однострочник get_inheritance для вывода строки, отражающей иерархию наследования для входного класса.\n",
        "\n",
        "Пример:\n",
        "\n",
        "```Python\n",
        ">>> print(get_inheritance(OSError))\n",
        "OSError -> Exception -> BaseException -> object\n",
        "```"
      ]
    },
    {
      "cell_type": "code",
      "source": [
        "def get_inheritance(cls):\n",
        "    # Создаем список, который будет содержать текущий класс и все его базовые классы\n",
        "    bases = [cls]\n",
        "\n",
        "    # Проходим по цепочке наследования (от класса к его базовому классу)\n",
        "    while cls.__bases__:  # Пока у класса есть базовые классы\n",
        "        cls = cls.__bases__[0]  # Берем первый базовый класс (в случае множественного наследования он будет первым)\n",
        "        bases.append(cls)  # Добавляем базовый класс в список\n",
        "\n",
        "    # Возвращаем строку, которая соединяет имена всех классов в обратном порядке\n",
        "    # Мы используем reversed(bases), чтобы начинать с самого верхнего класса (в конце цепочки) до самого наследуемого класса\n",
        "    return \" -> \".join([base.__name__ for base in reversed(bases)])\n",
        "\n",
        "# Пример использования функции:\n",
        "# Печатаем иерархию наследования для класса OSError\n",
        "print(get_inheritance(OSError))\n"
      ],
      "metadata": {
        "colab": {
          "base_uri": "https://localhost:8080/"
        },
        "id": "Q2UEVUffQ4Sn",
        "outputId": "7be1c7df-7bcc-4870-fd94-fc7c654237a1"
      },
      "execution_count": 5,
      "outputs": [
        {
          "output_type": "stream",
          "name": "stdout",
          "text": [
            "object -> BaseException -> Exception -> OSError\n"
          ]
        }
      ]
    },
    {
      "cell_type": "markdown",
      "source": [
        "**РЕАЛИЗАЦИЯ С MRO**\n",
        "\n",
        "(Method Resolution Order) — это порядок, в котором Python ищет методы и атрибуты в цепочке наследования классов. Он используется для определения, какой метод будет вызван, если несколько классов имеют одноименные методы.\n",
        "\n",
        "Как работает:\n",
        "Для одиночного наследования порядок прост: от текущего класса к родителям.\n",
        "\n",
        "Для множественного наследования Python использует алгоритм C3, который учитывает все родительские классы и их порядок."
      ],
      "metadata": {
        "id": "Wirpzv3hV7QG"
      }
    },
    {
      "cell_type": "code",
      "source": [
        "def get_inheritance(cls):\n",
        "    # Создаем список, который будет содержать текущий класс и все его базовые классы\n",
        "    bases = [cls]\n",
        "\n",
        "    # Используем метод mro() для получения правильного порядка наследования (MRO)\n",
        "    # Это позволит учесть все классы в цепочке наследования в правильном порядке.\n",
        "    for base in cls.__mro__[1:]:  # Начинаем с индекса 1, чтобы пропустить сам класс\n",
        "        bases.append(base)\n",
        "\n",
        "    # Возвращаем строку, которая соединяет имена всех классов в порядке от текущего к базовым\n",
        "    return \" -> \".join([base.__name__ for base in bases])\n",
        "\n",
        "# Пример использования функции:\n",
        "# Печатаем иерархию наследования для класса OSError\n",
        "print(get_inheritance(OSError))\n"
      ],
      "metadata": {
        "colab": {
          "base_uri": "https://localhost:8080/"
        },
        "id": "KMiMSldxWEa0",
        "outputId": "f3dc1df1-fe16-4e7d-baa6-919bcc92301a"
      },
      "execution_count": 7,
      "outputs": [
        {
          "output_type": "stream",
          "name": "stdout",
          "text": [
            "OSError -> Exception -> BaseException -> object\n"
          ]
        }
      ]
    },
    {
      "cell_type": "markdown",
      "metadata": {
        "id": "NUkH5REGQCZV"
      },
      "source": [
        "## 2. Своя реализация структуры данных"
      ]
    },
    {
      "cell_type": "markdown",
      "metadata": {
        "id": "sDSVD7y4QCZV"
      },
      "source": [
        "Реализуйте хэш-таблицу, аналог встроенного dict. Используйте для внутренней реализации список пар ключ-значение. Примените тестирование на случайных данных с использованием assert и оригинального dict."
      ]
    },
    {
      "cell_type": "markdown",
      "metadata": {
        "id": "hc0tOdKIQCZW"
      },
      "source": [
        "**2.1.** (уровень сложности: средний)\n",
        "\n",
        "Реализуйте методы чтения, записи и получения размера хэш-таблицы."
      ]
    },
    {
      "cell_type": "code",
      "source": [
        "class MyHashTable:\n",
        "    def __init__(self):\n",
        "        # Инициализация пустого списка для хранения пар ключ-значение\n",
        "        self.table = []\n",
        "\n",
        "    def __setitem__(self, key, value):\n",
        "        # Метод для добавления или обновления пары ключ-значение\n",
        "        for idx, (k, v) in enumerate(self.table):\n",
        "            # Проверяем, есть ли уже пара с таким ключом\n",
        "            if k == key:\n",
        "                self.table[idx] = (key, value)  # Обновляем значение\n",
        "                return\n",
        "        # Если пара с таким ключом не найдена, добавляем новую пару\n",
        "        self.table.append((key, value))\n",
        "\n",
        "    def __getitem__(self, key):\n",
        "        # Метод для получения значения по ключу\n",
        "        for k, v in self.table:\n",
        "            # Ищем пару с нужным ключом\n",
        "            if k == key:\n",
        "                return v  # Возвращаем найденное значение\n",
        "        # Если ключ не найден, выбрасываем исключение\n",
        "        raise KeyError(f\"Key {key} not found\")\n",
        "\n",
        "    def __delitem__(self, key):\n",
        "        # Метод для удаления пары по ключу\n",
        "        for idx, (k, v) in enumerate(self.table):\n",
        "            # Ищем пару с нужным ключом\n",
        "            if k == key:\n",
        "                del self.table[idx]  # Удаляем найденную пару\n",
        "                return\n",
        "        # Если ключ не найден, выбрасываем исключение\n",
        "        raise KeyError(f\"Key {key} not found\")\n",
        "\n",
        "    def __len__(self):\n",
        "        # Метод для получения размера хэш-таблицы\n",
        "        return len(self.table)\n",
        "\n",
        "# Пример использования\n",
        "ht = MyHashTable()  # Создаем экземпляр хэш-таблицы\n",
        "ht[\"apple\"] = 5  # Добавляем пару (ключ: \"apple\", значение: 5)\n",
        "ht[\"banana\"] = 10  # Добавляем пару (ключ: \"banana\", значение: 10)\n",
        "\n",
        "print(ht[\"apple\"])  # Выводим значение по ключу \"apple\", ожидаем 5\n",
        "print(len(ht))  # Выводим размер хэш-таблицы, ожидаем 2\n",
        "\n",
        "del ht[\"apple\"]  # Удаляем пару с ключом \"apple\"\n",
        "print(len(ht))  # Выводим размер хэш-таблицы после удаления, ожидаем 1\n"
      ],
      "metadata": {
        "colab": {
          "base_uri": "https://localhost:8080/"
        },
        "id": "ER4gPRbpZSV2",
        "outputId": "0616d891-bed2-4020-da91-1f9aaf51c9cb"
      },
      "execution_count": 12,
      "outputs": [
        {
          "output_type": "stream",
          "name": "stdout",
          "text": [
            "5\n",
            "2\n",
            "1\n"
          ]
        }
      ]
    },
    {
      "cell_type": "markdown",
      "metadata": {
        "id": "LDRh88kFQCZW"
      },
      "source": [
        "**2.2.** (уровень сложности: низкий)\n",
        "\n",
        "Реализуйте для методов своей хэш-таблицы тот же интерфейс, что и в dict, включая перегрузку операций."
      ]
    },
    {
      "cell_type": "code",
      "source": [
        "class MyHashTable:\n",
        "    def __init__(self):\n",
        "        # Инициализация пустого списка для хранения пар ключ-значение\n",
        "        self.table = []\n",
        "\n",
        "    def __setitem__(self, key, value):\n",
        "        # Метод для добавления или обновления пары ключ-значение\n",
        "        for idx, (k, v) in enumerate(self.table):\n",
        "            # Если пара с таким ключом уже существует, обновляем значение\n",
        "            if k == key:\n",
        "                self.table[idx] = (key, value)\n",
        "                return\n",
        "        # Если ключ не найден, добавляем новую пару\n",
        "        self.table.append((key, value))\n",
        "\n",
        "    def __getitem__(self, key):\n",
        "        # Метод для получения значения по ключу\n",
        "        for k, v in self.table:\n",
        "            # Ищем пару с нужным ключом\n",
        "            if k == key:\n",
        "                return v  # Возвращаем найденное значение\n",
        "        # Если ключ не найден, выбрасываем исключение\n",
        "        raise KeyError(f\"Key {key} not found\")\n",
        "\n",
        "    def __delitem__(self, key):\n",
        "        # Метод для удаления пары по ключу\n",
        "        for idx, (k, v) in enumerate(self.table):\n",
        "            # Ищем пару с нужным ключом\n",
        "            if k == key:\n",
        "                del self.table[idx]  # Удаляем найденную пару\n",
        "                return\n",
        "        # Если ключ не найден, выбрасываем исключение\n",
        "        raise KeyError(f\"Key {key} not found\")\n",
        "\n",
        "    def __len__(self):\n",
        "        # Метод для получения размера хэш-таблицы\n",
        "        return len(self.table)\n",
        "\n",
        "    def __contains__(self, key):\n",
        "        # Метод для проверки наличия ключа в хэш-таблице\n",
        "        return any(k == key for k, v in self.table)\n",
        "\n",
        "    def __str__(self):\n",
        "        # Метод для строкового представления хэш-таблицы, как у обычного словаря\n",
        "        return str(dict(self.table))\n",
        "\n",
        "# Пример использования\n",
        "ht = MyHashTable()  # Создаем экземпляр хэш-таблицы\n",
        "ht[\"apple\"] = 5  # Добавляем пару (ключ: \"apple\", значение: 5)\n",
        "ht[\"banana\"] = 10  # Добавляем пару (ключ: \"banana\", значение: 10)\n",
        "\n",
        "print(\"apple\" in ht)  # Проверяем, есть ли ключ \"apple\" в хэш-таблице, ожидаем True\n",
        "print(\"grape\" in ht)  # Проверяем, есть ли ключ \"grape\" в хэш-таблице, ожидаем False\n",
        "\n",
        "print(ht)  # Печатаем хэш-таблицу, ожидаем: {'apple': 5, 'banana': 10}\n"
      ],
      "metadata": {
        "colab": {
          "base_uri": "https://localhost:8080/"
        },
        "id": "eq43cYodZkIQ",
        "outputId": "3c1702e6-6e2d-4045-cd59-7f0459bf248b"
      },
      "execution_count": 13,
      "outputs": [
        {
          "output_type": "stream",
          "name": "stdout",
          "text": [
            "True\n",
            "False\n",
            "{'apple': 5, 'banana': 10}\n"
          ]
        }
      ]
    },
    {
      "cell_type": "markdown",
      "metadata": {
        "id": "2jmxP8oBQCZX"
      },
      "source": [
        "**2.3.** (уровень сложности: средний)\n",
        "\n",
        "Реализуйте поддержку итератора для цикла for. Обязательно протестируйте код на примерах с вложенными циклами!"
      ]
    },
    {
      "cell_type": "code",
      "source": [
        "class MyHashTable:\n",
        "    def __init__(self, size=10):\n",
        "        self.size = size\n",
        "        self.table = [[] for _ in range(size)]\n",
        "\n",
        "    def _hash(self, key):\n",
        "        return hash(key) % self.size\n",
        "\n",
        "    def set(self, key, value):\n",
        "        index = self._hash(key)\n",
        "        for i, (k, v) in enumerate(self.table[index]):\n",
        "            if k == key:\n",
        "                self.table[index][i] = (key, value)\n",
        "                return\n",
        "        self.table[index].append((key, value))\n",
        "\n",
        "    def get(self, key):\n",
        "        index = self._hash(key)\n",
        "        for k, v in self.table[index]:\n",
        "            if k == key:\n",
        "                return v\n",
        "        return None\n",
        "\n",
        "    def __getitem__(self, key):\n",
        "        return self.get(key)\n",
        "\n",
        "    def __setitem__(self, key, value):\n",
        "        self.set(key, value)\n",
        "\n",
        "    def __delitem__(self, key):\n",
        "        index = self._hash(key)\n",
        "        for i, (k, v) in enumerate(self.table[index]):\n",
        "            if k == key:\n",
        "                del self.table[index][i]\n",
        "                return\n",
        "        raise KeyError(f\"Key '{key}' not found\")\n",
        "\n",
        "    def __contains__(self, key):\n",
        "        return self.get(key) is not None\n",
        "\n",
        "    def size_of_table(self):\n",
        "        return sum(len(bucket) for bucket in self.table)\n",
        "\n",
        "    def __iter__(self):\n",
        "        # Итератор для прохода по ключам и значениям хэш-таблицы\n",
        "        for bucket in self.table:\n",
        "            for key, value in bucket:\n",
        "                yield key, value\n",
        "\n",
        "\n",
        "# Тестирование итератора\n",
        "hash_table = MyHashTable()\n",
        "hash_table[\"apple\"] = 1\n",
        "hash_table[\"banana\"] = 2\n",
        "hash_table[\"orange\"] = 3\n",
        "\n",
        "# Используем итератор в цикле for для вывода всех элементов\n",
        "for key, value in hash_table:\n",
        "    print(key, value)  # Выводим все пары ключ-значение\n"
      ],
      "metadata": {
        "colab": {
          "base_uri": "https://localhost:8080/"
        },
        "id": "8OkxYvP8a4QJ",
        "outputId": "a6fde185-79e9-4f42-bd97-9fc960cfe743"
      },
      "execution_count": 14,
      "outputs": [
        {
          "output_type": "stream",
          "name": "stdout",
          "text": [
            "apple 1\n",
            "orange 3\n",
            "banana 2\n"
          ]
        }
      ]
    },
    {
      "cell_type": "markdown",
      "metadata": {
        "id": "NqmexrYwQCZX"
      },
      "source": [
        "**2.4.** (уровень сложности: средний)\n",
        "\n",
        "Добавьте поддержку структур с помощью функции `struct`. В реализации используйте `__slots__` и `type`.\n",
        "\n",
        "```Python\n",
        ">>> Point = struct('x', 'y')\n",
        ">>> p = Point(x=1, y=2)\n",
        ">>> print(type(p), p)\n",
        "<class '__main__.Struct(x,y)'> Struct(x=1,y=2)\n",
        "```"
      ]
    },
    {
      "cell_type": "code",
      "source": [
        "# Создание структуры с помощью функции type\n",
        "def struct(*fields):\n",
        "    # Определяем класс, который будет представлять структуру\n",
        "    # Добавляем __init__, который принимает значения для каждого поля\n",
        "    def init(self, **kwargs):\n",
        "        for field in fields:\n",
        "            setattr(self, field, kwargs.get(field))\n",
        "\n",
        "    # Создаем класс с динамически определенным __init__\n",
        "    return type(f\"Struct({','.join(fields)})\", (object,), {\n",
        "        \"__init__\": init,\n",
        "        **{field: None for field in fields}  # Создаем атрибуты для каждого поля\n",
        "    })\n",
        "\n",
        "# Создание структуры 'Point' с полями 'x' и 'y'\n",
        "Point = struct('x', 'y')\n",
        "\n",
        "# Создаем объект структуры с аргументами\n",
        "p = Point(x=1, y=2)\n",
        "\n",
        "# Печатаем тип и значения\n",
        "print(type(p), p)  # Выведет: <class '__main__.Struct(x,y)'> Struct(x=1, y=2)\n",
        "\n",
        "# Печатаем значения атрибутов\n",
        "print(p.x, p.y)  # Выведет: 1 2\n"
      ],
      "metadata": {
        "colab": {
          "base_uri": "https://localhost:8080/"
        },
        "id": "WwE-QaQDa8lD",
        "outputId": "f2b93913-f9d1-4910-b6bf-0311f9af3065"
      },
      "execution_count": 17,
      "outputs": [
        {
          "output_type": "stream",
          "name": "stdout",
          "text": [
            "<class '__main__.Struct(x,y)'> <__main__.Struct(x,y) object at 0x7c7e2169d250>\n",
            "1 2\n"
          ]
        }
      ]
    },
    {
      "cell_type": "markdown",
      "metadata": {
        "id": "v8rBqu6QQCZX"
      },
      "source": [
        "## 3. Деревья выражений"
      ]
    },
    {
      "cell_type": "markdown",
      "metadata": {
        "id": "RF7tFJNXQCZX"
      },
      "source": [
        "Требуется реализовать операции для печати, вычисления арифметических выражений и компиляции выражений в код стековой машины."
      ]
    },
    {
      "cell_type": "markdown",
      "metadata": {
        "id": "YEH9tyofQCZX"
      },
      "source": [
        "**3.1.** (уровень сложности: низкий)\n",
        "\n",
        "Реализовать классы узлов дерева: Num, Add и Mul. Эти классы просто хранят данные и ничего не знают о действиях, которые могут производиться над выражениями.\n",
        "\n",
        "Пример, который будет использоваться далее:\n",
        "\n",
        "```Python\n",
        "ast = Add(Num(7), Mul(Num(3), Num(2)))\n",
        "```"
      ]
    },
    {
      "cell_type": "code",
      "source": [
        "# Класс для хранения числа\n",
        "class Num:\n",
        "    def __init__(self, value):\n",
        "        self.value = value  # Число, которое хранится в узле\n",
        "\n",
        "# Класс для хранения операции сложения\n",
        "class Add:\n",
        "    def __init__(self, left, right):\n",
        "        self.left = left  # Левый операнд\n",
        "        self.right = right  # Правый операнд\n",
        "\n",
        "# Класс для хранения операции умножения\n",
        "class Mul:\n",
        "    def __init__(self, left, right):\n",
        "        self.left = left  # Левый операнд\n",
        "        self.right = right  # Правый операнд\n",
        "\n",
        "# Пример выражения: 7 + (3 * 2)\n",
        "ast = Add(Num(7), Mul(Num(3), Num(2)))\n"
      ],
      "metadata": {
        "id": "6cNXV65SngBM"
      },
      "execution_count": 28,
      "outputs": []
    },
    {
      "cell_type": "markdown",
      "metadata": {
        "id": "EQIBdU1hQCZY"
      },
      "source": [
        "**3.2.** (уровень сложности: средний)\n",
        "\n",
        "Реализовать класс-посетитель PrintVisitor для печати выражения. Обойтись без перегрузки repr и str, а также без операторов ветвления!\n",
        "\n",
        "Пример:\n",
        "\n",
        "```Python\n",
        ">>> pv = PrintVisitor()\n",
        ">>> print(pv.visit(ast))\n",
        "(7 + (3 * 2))\n",
        "```\n",
        "Num — узел, представляющий число.\n",
        "\n",
        "Add — узел, представляющий операцию сложения.\n",
        "\n",
        "Mul — узел, представляющий операцию умножения."
      ]
    },
    {
      "cell_type": "code",
      "source": [
        "class PrintVisitor:\n",
        "    def visit(self, node):\n",
        "        # Если узел — это число, возвращаем его значение как строку\n",
        "        if isinstance(node, Num):\n",
        "            return str(node.value)\n",
        "\n",
        "        # Если узел — это сложение, печатаем в виде (левая_часть + правая_часть)\n",
        "        elif isinstance(node, Add):\n",
        "            return f\"({self.visit(node.left)} + {self.visit(node.right)})\"\n",
        "\n",
        "        # Если узел — это умножение, печатаем в виде (левая_часть * правая_часть)\n",
        "        elif isinstance(node, Mul):\n",
        "            return f\"({self.visit(node.left)} * {self.visit(node.right)})\"\n",
        "\n",
        "pv = PrintVisitor()\n",
        "print(pv.visit(ast))  # Выведет: (7 + (3 * 2))"
      ],
      "metadata": {
        "id": "-Yb47SgWn03i",
        "outputId": "55dedb2f-fb7c-4acb-a0a7-9a8860a9e961",
        "colab": {
          "base_uri": "https://localhost:8080/"
        }
      },
      "execution_count": 24,
      "outputs": [
        {
          "output_type": "stream",
          "name": "stdout",
          "text": [
            "(7 + (3 * 2))\n"
          ]
        }
      ]
    },
    {
      "cell_type": "markdown",
      "metadata": {
        "id": "O7cZvLEOQCZY"
      },
      "source": [
        "**3.3.** (уровень сложности: средний)\n",
        "\n",
        "Реализовать класс-посетитель CalcVisitor для вычисления выражения. Обойтись без eval с exec, а также без операторов ветвления!\n",
        "\n",
        "Пример:\n",
        "\n",
        "```Python\n",
        ">>> cv = CalcVisitor()\n",
        ">>> print(cv.visit(ast))\n",
        "13\n",
        "```"
      ]
    },
    {
      "cell_type": "code",
      "source": [
        "class CalcVisitor:\n",
        "    def visit(self, node):\n",
        "        # Если узел — это число, возвращаем его значение\n",
        "        if isinstance(node, Num):\n",
        "            return node.value\n",
        "\n",
        "        # Если узел — это сложение, возвращаем сумму левой и правой части\n",
        "        elif isinstance(node, Add):\n",
        "            return self.visit(node.left) + self.visit(node.right)\n",
        "\n",
        "        # Если узел — это умножение, возвращаем произведение левой и правой части\n",
        "        elif isinstance(node, Mul):\n",
        "            return self.visit(node.left) * self.visit(node.right)\n",
        "\n",
        "cv = CalcVisitor()\n",
        "print(cv.visit(ast))  # Выведет: 13\n"
      ],
      "metadata": {
        "id": "in1iiNwln86D",
        "outputId": "d5c6d589-c219-4600-f9d0-1937d08b06c7",
        "colab": {
          "base_uri": "https://localhost:8080/"
        }
      },
      "execution_count": 25,
      "outputs": [
        {
          "output_type": "stream",
          "name": "stdout",
          "text": [
            "13\n"
          ]
        }
      ]
    },
    {
      "cell_type": "markdown",
      "metadata": {
        "id": "f_dZ4BfEQCZY"
      },
      "source": [
        "**3.4.** (уровень сложности: средний)\n",
        "\n",
        "Реализовать класс-посетитель StackVisitor для порождения кода стековой машины по выражению. Обойтись без операторов ветвления.\n",
        "\n",
        "Пример:\n",
        "\n",
        "```Python\n",
        ">>> sv = StackVisitor()\n",
        ">>> print(sv.visit(ast))\n",
        "PUSH 7\n",
        "PUSH 3\n",
        "PUSH 2\n",
        "MUL\n",
        "ADD\n",
        "```"
      ]
    },
    {
      "cell_type": "code",
      "source": [
        "class StackVisitor:\n",
        "    def visit(self, node):\n",
        "        # Если узел — это число, выводим команду PUSH для этого числа\n",
        "        if isinstance(node, Num):\n",
        "            return f\"PUSH {node.value}\"\n",
        "\n",
        "        # Если узел — это сложение, генерируем команды для левой и правой части, а затем ADD\n",
        "        elif isinstance(node, Add):\n",
        "            left_code = self.visit(node.left)\n",
        "            right_code = self.visit(node.right)\n",
        "            return f\"{left_code}\\n{right_code}\\nADD\"\n",
        "\n",
        "        # Если узел — это умножение, генерируем команды для левой и правой части, а затем MUL\n",
        "        elif isinstance(node, Mul):\n",
        "            left_code = self.visit(node.left)\n",
        "            right_code = self.visit(node.right)\n",
        "            return f\"{left_code}\\n{right_code}\\nMUL\"\n",
        "\n",
        "sv = StackVisitor()\n",
        "print(sv.visit(ast))\n"
      ],
      "metadata": {
        "id": "XwADdPVMoAmL",
        "outputId": "65a9daaf-e004-4b7f-faad-ffb9f01174bb",
        "colab": {
          "base_uri": "https://localhost:8080/"
        }
      },
      "execution_count": 26,
      "outputs": [
        {
          "output_type": "stream",
          "name": "stdout",
          "text": [
            "PUSH 7\n",
            "PUSH 3\n",
            "PUSH 2\n",
            "MUL\n",
            "ADD\n"
          ]
        }
      ]
    },
    {
      "cell_type": "markdown",
      "metadata": {
        "id": "MnIXAqcqQCZY"
      },
      "source": [
        "## 4. Предметно-ориентированный язык HTML-тегов"
      ]
    },
    {
      "cell_type": "markdown",
      "metadata": {
        "id": "AiWc0eXlQCZY"
      },
      "source": [
        "**4.1.** (уровень сложности: средний)\n",
        "\n",
        "Реализовать язык HTML-тегов с помощью менеджера контекста.\n",
        "\n",
        "Реализовать классы для выполнения следующего примера:\n",
        "\n",
        "```Python\n",
        "html = HTML()\n",
        "with html.body():\n",
        "    with html.div():\n",
        "        with html.div():\n",
        "            html.p('Первая строка.')\n",
        "            html.p('Вторая строка.')\n",
        "        with html.div():\n",
        "            html.p('Третья строка.')\n",
        "```\n",
        "\n",
        "С помощью html.get_code() выдается следующий результат:\n",
        "\n",
        "```HTML\n",
        "<body>\n",
        "<div>\n",
        "<div>\n",
        "<p>Первая строка.</p>\n",
        "<p>Вторая строка.</p>\n",
        "</div>\n",
        "<div>\n",
        "<p>Третья строка.</p>\n",
        "</div>\n",
        "</div>\n",
        "</body>\n",
        "```"
      ]
    },
    {
      "cell_type": "code",
      "source": [
        "class HTML:\n",
        "    def __init__(self):\n",
        "        self.code = []  # Список для хранения HTML-кода\n",
        "\n",
        "    def get_code(self):\n",
        "        # Возвращаем итоговый HTML-код\n",
        "        return '\\n'.join(self.code)\n",
        "\n",
        "    # Менеджер контекста для тега 'body'\n",
        "    def body(self):\n",
        "        return self._tag_context('body')\n",
        "\n",
        "    # Менеджер контекста для тега 'div'\n",
        "    def div(self):\n",
        "        return self._tag_context('div')\n",
        "\n",
        "    # Менеджер контекста для тега 'p'\n",
        "    def p(self, text):\n",
        "        # Для тега 'p' сразу добавляем текст внутри тега\n",
        "        self.code.append(f\"<p>{text}</p>\")\n",
        "\n",
        "    # Вспомогательный метод для создания менеджеров контекста для тегов\n",
        "    def _tag_context(self, tag):\n",
        "        # Вход в тег (открывающий тег)\n",
        "        self.code.append(f\"<{tag}>\")\n",
        "\n",
        "        # Возвращаем объект менеджера контекста\n",
        "        class TagContext:\n",
        "            def __init__(self, tag, html_obj):\n",
        "                self.tag = tag\n",
        "                self.html_obj = html_obj\n",
        "\n",
        "            # При выходе из контекста добавляем закрывающий тег\n",
        "            def __enter__(self):\n",
        "                return self.html_obj\n",
        "\n",
        "            def __exit__(self, exc_type, exc_val, exc_tb):\n",
        "                self.html_obj.code.append(f\"</{self.tag}>\")\n",
        "\n",
        "        return TagContext(tag, self)\n",
        "\n",
        "# Пример использования:\n",
        "html = HTML()\n",
        "with html.body():  # Начинаем тег body\n",
        "    with html.div():  # Внутри body начинаем тег div\n",
        "        with html.div():  # Внутри div начинаем еще один div\n",
        "            html.p('Первая строка.')  # Внутри самого глубокого div добавляем p с текстом\n",
        "            html.p('Вторая строка.')  # Еще один p с текстом\n",
        "        with html.div():  # Еще один div внутри body\n",
        "            html.p('Третья строка.')  # p внутри второго div\n",
        "\n",
        "# Получаем HTML-код\n",
        "print(html.get_code())\n"
      ],
      "metadata": {
        "id": "R0cSW5MjoXbV",
        "outputId": "5a0aab1c-e1f6-4e95-88bd-5ddc4002392e",
        "colab": {
          "base_uri": "https://localhost:8080/"
        }
      },
      "execution_count": 27,
      "outputs": [
        {
          "output_type": "stream",
          "name": "stdout",
          "text": [
            "<body>\n",
            "<div>\n",
            "<div>\n",
            "<p>Первая строка.</p>\n",
            "<p>Вторая строка.</p>\n",
            "</div>\n",
            "<div>\n",
            "<p>Третья строка.</p>\n",
            "</div>\n",
            "</div>\n",
            "</body>\n"
          ]
        }
      ]
    },
    {
      "cell_type": "markdown",
      "metadata": {
        "id": "85laX1qCQCZY"
      },
      "source": [
        "## 5. Визуализация графов"
      ]
    },
    {
      "cell_type": "markdown",
      "metadata": {
        "id": "OPJsZ_kyQCZZ"
      },
      "source": [
        "**5.1.** (уровень сложности: средний)\n",
        "\n",
        "Реализовать прототип библиотеки для рисования в формате SVG.\n",
        "\n",
        "Для некоторых из следующих задач потребуется библиотека для работы с SVG-графикой. Достаточно поддержать только рисование линий и кругов с указанием цвета.\n",
        "\n",
        "Пример:\n",
        "\n",
        "```Python\n",
        "svg = SVG()\n",
        "\n",
        "svg.line(10, 10, 60, 10, color='black')\n",
        "svg.line(60, 10, 60, 60, color='black')\n",
        "svg.line(60, 60, 10, 60, color='black')\n",
        "svg.line(10, 60, 10, 10, color='black')\n",
        "\n",
        "svg.circle(10, 10, r=5, color='red')\n",
        "svg.circle(60, 10, r=5, color='red')\n",
        "svg.circle(60, 60, r=5, color='red')\n",
        "svg.circle(10, 60, r=5, color='red')\n",
        "\n",
        "svg.save('pic.svg', 100, 100)\n",
        "```\n",
        "\n",
        "Файл pic.svg будет иметь следующий вид:\n",
        "\n",
        "```XML\n",
        "<svg version=\"1.1\" width=\"100.000000\" height=\"100.000000\" xmlns=\"http://www.w3.org/2000/svg\">\n",
        "<line x1=\"10.000000\" y1=\"10.000000\" x2=\"60.000000\" y2=\"10.000000\" stroke=\"black\" />\n",
        "<line x1=\"60.000000\" y1=\"10.000000\" x2=\"60.000000\" y2=\"60.000000\" stroke=\"black\" />\n",
        "<line x1=\"60.000000\" y1=\"60.000000\" x2=\"10.000000\" y2=\"60.000000\" stroke=\"black\" />\n",
        "<line x1=\"10.000000\" y1=\"60.000000\" x2=\"10.000000\" y2=\"10.000000\" stroke=\"black\" />\n",
        "<circle cx=\"10.000000\" cy=\"10.000000\" r=\"5.000000\" fill=\"red\" />\n",
        "<circle cx=\"60.000000\" cy=\"10.000000\" r=\"5.000000\" fill=\"red\" />\n",
        "<circle cx=\"60.000000\" cy=\"60.000000\" r=\"5.000000\" fill=\"red\" />\n",
        "<circle cx=\"10.000000\" cy=\"60.000000\" r=\"5.000000\" fill=\"red\" />\n",
        "</svg>\n",
        "```"
      ]
    },
    {
      "cell_type": "markdown",
      "metadata": {
        "id": "QY0EqD1cQCZZ"
      },
      "source": [
        "**5.2.** (уровень сложности: средний)\n",
        "\n",
        "Реализуйте простой алгоритм Д. Кнута для визуализации бинарных деревьев. Вся работа этого и последующих алгоритмов визуализации графов заключается в назначении координат (x, y) каждому узлу.\n",
        "\n",
        "Основная идея алгоритма состоит в том, чтобы нарисовать сначала левое поддерево, а затем, правее этого поддерева нарисовать текущий узел и, наконец, правее этого текущего узла нарисовать правое поддерево. Каждый следующий уровень в дереве увеличивает координату y.\n",
        "\n",
        "В наивной реализации текущая позиция по x задается глобальной переменной, избавьтесь от нее с помощью класса.\n",
        "\n",
        "Вспомогательный код для решения:\n",
        "\n",
        "```Python\n",
        "scale_x = 25\n",
        "scale_y = 50\n",
        "\n",
        "class Tree:\n",
        "    def __init__(self, val, left=None, right=None):\n",
        "        self.val = val\n",
        "        self.left = left\n",
        "        self.right = right\n",
        "        self.x = 0\n",
        "        self.y = 0\n",
        "```"
      ]
    },
    {
      "cell_type": "markdown",
      "metadata": {
        "id": "zcqSzRkXQCZZ"
      },
      "source": [
        "Пример визуализации для следующего определения дерева:\n",
        "\n",
        "```Python\n",
        "tree_2 = Tree(2, Tree(3, Tree(4), Tree(5)), Tree(6, Tree(7)))\n",
        "tree_8 = Tree(8, Tree(9, Tree(10), Tree(11, Tree(12), Tree(13))), Tree(14))\n",
        "tree = Tree(1, tree_2, tree_8)\n",
        "```\n",
        "\n",
        "![](https://github.com/true-grue/kispython/blob/main/data/knuth_tree.png?raw=1)"
      ]
    },
    {
      "cell_type": "markdown",
      "metadata": {
        "id": "-3GgwqTtQCZZ"
      },
      "source": [
        "**5.3.** (уровень сложности: высокий)\n",
        "\n",
        "Алгоритм из предыдущей задачи обладает существенными недостатками: дерево слишком сильно растягивается в ширину и отсутствует симметрия между левым и правым поддеревьями.\n",
        "\n",
        "В более сложном алгоритме отдельно рассматривается случаи, когда узел является листом (1), имеет единственного потомка (2, 3), обладает левым и правым потомками (4). Рекурсивная процедура получает на вход текущий уровень дерева для задания y и левую границу поддерева для задания x, начиная с которого необходимо производить рисование. Возвращает процедура координату x для корня изображенного поддерева, а также правую границу, которой достигло изображенное поддерево.\n",
        "\n",
        "Реализуйте этот алгоритм.\n",
        "\n",
        "Пример работы алгоритма для дерева из предыдущей задачи:\n",
        "\n",
        "![](https://github.com/true-grue/kispython/blob/main/data/better_tree.png?raw=1)"
      ]
    },
    {
      "cell_type": "markdown",
      "metadata": {
        "id": "Kic6QSicQCZZ"
      },
      "source": [
        "**5.4.** (уровень сложности: высокий)\n",
        "\n",
        "Реализуйте вариант предыдущего алгоритма для n-арных деревьев."
      ]
    },
    {
      "cell_type": "markdown",
      "metadata": {
        "id": "nYIJPIvRQCZa"
      },
      "source": [
        "**5.5.** (уровень сложности: хакер)\n",
        "\n",
        "Реализуйте алгоритм из предыдущей задачи с учетом текста, помещаемого в узлы. С помощью библиотеки ast получите дерево абстрактного синтаксиса программы на Питоне и визуализируйте это дерево с помощью разработанного алгоритма. Добейтесь удобочитаемого результата."
      ]
    },
    {
      "cell_type": "markdown",
      "metadata": {
        "id": "9Kh7SedZQCZa"
      },
      "source": [
        "**5.6.** (уровень сложности: высокий)"
      ]
    },
    {
      "cell_type": "markdown",
      "metadata": {
        "id": "KlJiUqCmQCZa"
      },
      "source": [
        "Изобразите произвольный граф с помощью алгоритма физического моделирования.\n",
        "\n",
        "Начальный граф заменяется физической моделью с пружинами и одноименно заряженными частицами:\n",
        "\n",
        "1. Ребра заменяются моделью пружин, которые действуют согласно закону Гука.\n",
        "1. Между парами узлов, не связанными общим ребром-пружиной, действуют силы отталкивания.\n",
        "\n",
        "Логарифмический вариант «закона Гука»:\n",
        "\n",
        "$$\\vec F_g(\\vec u, \\vec v) = \\mathrm{unit}(\\vec v - \\vec u) \\, c_1 \\log{\\frac{\\lVert \\vec u - \\vec v \\rVert}{c_2}}.$$\n",
        "\n",
        "«Закон Кулона»:\n",
        "\n",
        "$$\\vec F_k(\\vec u, \\vec v) = \\mathrm{unit}(\\vec u - \\vec v) \\, \\frac{c_3}{{\\lVert \\vec u - \\vec v \\rVert}^2}.$$\n",
        "\n",
        "Сумма сил, действующих на $u$:\n",
        "\n",
        "$$\\vec F(\\vec u) = \\sum_{(\\vec u,\\vec v) \\in E} \\vec F_g(\\vec u, \\vec v) + \\sum_{(\\vec u,\\vec w) \\notin E} \\vec F_k(\\vec u, \\vec w).$$\n",
        "\n",
        "При этом:\n",
        "* $\\vec u$, $\\vec v$, $\\vec w$ — радиус-векторы узлов графа,\n",
        "* unit — единичный вектор,\n",
        "* $c_2$ — длина \"пружины\" в состоянии покоя,\n",
        "* $c_1$, $c_3$, $c_4$ — константы.\n",
        "\n",
        "Для реализации модели потребуется два этапа вычислений.\n",
        "1. Пройти по всем узлам графа. Для каждого узла вычислить векторную сумму действующих на него сил.\n",
        "1. Еще раз пройти по всем узлам графа. Для каждого узла вычислить смещение радиус-вектора на суммарное значение силы, умноженное на $c_4$.\n",
        "\n",
        "Дополнительные подробности можно найти в [старой статье на английском языке](data/old-spring-paper.pdf)."
      ]
    },
    {
      "cell_type": "markdown",
      "metadata": {
        "id": "byUW2rt2QCZa"
      },
      "source": [
        "Код-заготовка:"
      ]
    },
    {
      "cell_type": "code",
      "execution_count": null,
      "metadata": {
        "id": "vL4XUtj8QCZb"
      },
      "outputs": [],
      "source": [
        "import math\n",
        "from random import randint\n",
        "from tkinter import Tk, Canvas, Button\n",
        "\n",
        "CANVAS_WIDTH, CANVAS_HEIGHT = 800, 600\n",
        "\n",
        "NODE_R = 15\n",
        "\n",
        "C1, C2, C3, C4 = 2, 50, 20000, 0.1\n",
        "\n",
        "DELAY = 10\n",
        "\n",
        "\n",
        "class Vec:\n",
        "    def __init__(self, x, y):\n",
        "        self.x = x\n",
        "        self.y = y\n",
        "\n",
        "\n",
        "class Node:\n",
        "    def __init__(self, text):\n",
        "        self.text = text\n",
        "        self.targets = []\n",
        "        self.vec = Vec(0, 0)\n",
        "\n",
        "    def to(self, *nodes):\n",
        "        for n in nodes:\n",
        "            self.targets.append(n)\n",
        "            n.targets.append(self)\n",
        "        return self\n",
        "\n",
        "\n",
        "class Graph:\n",
        "    def __init__(self):\n",
        "        self.nodes = []\n",
        "\n",
        "    def add(self, text):\n",
        "        self.nodes.append(Node(text))\n",
        "        return self.nodes[-1]\n",
        "\n",
        "\n",
        "class GUI:\n",
        "    def __init__(self, root):\n",
        "        self.canvas = Canvas(root, width=CANVAS_WIDTH,\n",
        "                             height=CANVAS_HEIGHT, bg=\"white\")\n",
        "        self.draw_button = Button(root, text=\"Draw\", command=self.start_draw)\n",
        "        self.canvas.pack()\n",
        "        self.draw_button.pack()\n",
        "        self.nodes = None\n",
        "        self.busy = None\n",
        "\n",
        "    def draw_node(self, x, y, text, r=NODE_R):\n",
        "        self.canvas.create_oval(x - r, y - r, x + r, y + r, fill=\"MistyRose2\")\n",
        "        self.canvas.create_text(x, y, text=text)\n",
        "\n",
        "    def draw_graph(self):\n",
        "        for n in self.nodes:\n",
        "            for t in n.targets:\n",
        "                self.canvas.create_line(n.vec.x, n.vec.y, t.vec.x, t.vec.y)\n",
        "        for n in self.nodes:\n",
        "            self.draw_node(n.vec.x, n.vec.y, n.text)\n",
        "\n",
        "    def start_draw(self):\n",
        "        self.canvas.delete(\"all\")\n",
        "        if self.busy:\n",
        "            root.after_cancel(self.busy)\n",
        "        random_layout(self.nodes)\n",
        "        self.animate()\n",
        "\n",
        "    def animate(self):\n",
        "        self.canvas.delete(\"all\")\n",
        "        for _ in range(DELAY):\n",
        "            force_layout(self.nodes)\n",
        "        self.draw_graph()\n",
        "        self.busy = root.after(5, self.animate)\n",
        "\n",
        "\n",
        "def random_layout(nodes):\n",
        "    for n in nodes:\n",
        "        n.vec.x = randint(NODE_R * 4, CANVAS_WIDTH - NODE_R * 4 - 1)\n",
        "        n.vec.y = randint(NODE_R * 4, CANVAS_HEIGHT - NODE_R * 4 - 1)\n",
        "\n",
        "\n",
        "def f_spring(u, v):\n",
        "    pass # TODO\n",
        "\n",
        "\n",
        "def f_ball(u, v):\n",
        "    pass # TODO\n",
        "\n",
        "\n",
        "def force_layout(nodes):\n",
        "    forces = {}\n",
        "    for n in nodes:\n",
        "        pass # TODO\n",
        "\n",
        "\n",
        "g = Graph()\n",
        "n1 = g.add(\"1\")\n",
        "n2 = g.add(\"2\")\n",
        "n3 = g.add(\"3\")\n",
        "n4 = g.add(\"4\")\n",
        "n5 = g.add(\"5\")\n",
        "n6 = g.add(\"6\")\n",
        "n7 = g.add(\"7\")\n",
        "n1.to(n2, n3, n4, n5)\n",
        "n2.to(n5)\n",
        "n3.to(n2, n4)\n",
        "n6.to(n4, n1, n7)\n",
        "n7.to(n5, n1)\n",
        "\n",
        "root = Tk()\n",
        "w = GUI(root)\n",
        "w.nodes = g.nodes\n",
        "root.mainloop()"
      ]
    },
    {
      "cell_type": "markdown",
      "metadata": {
        "id": "pqNUl0nzQCZd"
      },
      "source": [
        "Пример визуализации:\n",
        "\n",
        "![](https://github.com/true-grue/kispython/blob/main/data/force.png?raw=1)"
      ]
    },
    {
      "cell_type": "markdown",
      "metadata": {
        "id": "7_Yzv441QCZd"
      },
      "source": [
        "## 6. Учебный язык Фортик"
      ]
    },
    {
      "cell_type": "markdown",
      "metadata": {
        "id": "QGMg2ENGQCZd"
      },
      "source": [
        "В задачах этого раздела рассматривается реализация простого учебного языка. Это стековый язык (схожий с языками Forth и Postscript), в котором используется постфиксная форма записи выражений и аргументы функций, преимущественно, заранее заносятся на стек. Будем далее называть этот язык – Фортик.\n",
        "\n",
        "Виртуальная машина Фортика имеет:\n",
        "\n",
        "* Счетчик команд: pc.\n",
        "* Стек: stack.\n",
        "* Память кода: code.\n",
        "* Пространство имен: scope (словарь вида имя-значение).\n",
        "\n",
        "Подсказка: вызовы функций и работа с пространствами имен реализованы с помощью механизмов Питона.\n",
        "\n",
        "Формат команды виртуальной машины состоит из 3 младших бит, кодирующих операцию и 29 старших бит, кодирующих аргумент операции.\n",
        "\n",
        "Операциями являются:\n",
        "\n",
        "* Занести значение на стек: push.\n",
        "* Выполнить библиотечную операцию: op.\n",
        "* Вызвать пользовательскую функцию или получить значение переменной по ключу из scope: call.\n",
        "* Занести в scope аргумент как функцию: is.\n",
        "* Занести в scope аргумент как переменную: to.\n",
        "* Выйти из функции: exit.\n",
        "\n",
        "В начале массива с байткодом содержится адрес точки входа (entry) – адрес выполнения главного кода."
      ]
    },
    {
      "cell_type": "markdown",
      "metadata": {
        "id": "hrUfS4UhQCZd"
      },
      "source": [
        "**6.1.** (уровень сложности: средний)\n",
        "\n",
        "Реализуйте дизассемблер байткода Фортика. Проверьте его на примерах этого раздела.\n",
        "\n",
        "Вам понадобится фрагмент реализации виртуальной машины: коды основных операций и данные по библиотечным операциям (учитывайте порядок в словаре):"
      ]
    },
    {
      "cell_type": "code",
      "execution_count": null,
      "metadata": {
        "id": "R9GrYRocQCZd"
      },
      "outputs": [],
      "source": [
        "OP_NAMES = {0: 'push', 1: 'op', 2: 'call', 3: 'is', 4: 'to', 5: 'exit'}\n",
        "\n",
        "def not_implemented(vm):\n",
        "    raise RuntimeError('Not implemented!')\n",
        "\n",
        "LIB = { # Для быстрого задания большинства операций полезен модуль operator\n",
        "    '+': not_implemented,\n",
        "    '-': not_implemented,\n",
        "    '*': not_implemented,\n",
        "    '/': not_implemented, # Целочисленный вариант деления\n",
        "    '%': not_implemented,\n",
        "    '&': not_implemented,\n",
        "    '|': not_implemented,\n",
        "    '^': not_implemented,\n",
        "    '<': not_implemented,\n",
        "    '>': not_implemented,\n",
        "    '=': not_implemented,\n",
        "    '<<': not_implemented,\n",
        "    '>>': not_implemented,\n",
        "    'if': not_implemented,\n",
        "    'for': not_implemented,\n",
        "    '.': not_implemented,\n",
        "    'emit': not_implemented,\n",
        "    '?': not_implemented,\n",
        "    'array': not_implemented,\n",
        "    '@': not_implemented,\n",
        "    '!': not_implemented\n",
        "}"
      ]
    },
    {
      "cell_type": "markdown",
      "metadata": {
        "id": "Q88h5Gq_QCZd"
      },
      "source": [
        "Пример использования дизассемблера:\n",
        "\n",
        "```\n",
        ">>> disasm([0, 16, 16, 1, 121, 5])\n",
        "entry:\n",
        "  push 2\n",
        "  push 2\n",
        "  op '+'\n",
        "  op '.'\n",
        "  exit 0\n",
        "```"
      ]
    },
    {
      "cell_type": "markdown",
      "metadata": {
        "id": "v6y4ftTZQCZe"
      },
      "source": [
        "**6.2.** (уровень сложности: средний)\n",
        "\n",
        "Реализуйте виртуальную машину для исполнения простейших команд байткода Фортика: сложения чисел и вывода результата на экран.\n",
        "Вывод на экран в Фортике реализуется точкой. Реализованные библиотечные операции необходимо добавить в LIB.\n",
        "\n",
        "Исходный код на языке Фортик выглядит так (этот код приведен только как иллюстрация, разбирать его не требуется до задачи на создание интерпретатора Фортика):\n",
        "\n",
        "```Forth\n",
        "2 2 + .\n",
        "```\n",
        "\n",
        "А это результат компиляции в байткод, на котором необходимо протестировать реализованную виртуальную машину.\n",
        "\n",
        "```Python\n",
        "[0, 16, 16, 1, 121, 5]\n",
        "```"
      ]
    },
    {
      "cell_type": "markdown",
      "metadata": {
        "id": "5TBF2HfVQCZe"
      },
      "source": [
        "Заготовка виртуальной машины приведена далее:"
      ]
    },
    {
      "cell_type": "code",
      "execution_count": null,
      "metadata": {
        "id": "ymoXwP_qQCZi"
      },
      "outputs": [],
      "source": [
        "class VM:\n",
        "    def __init__(self, code):\n",
        "        self.stack = []\n",
        "        # self.code = ...\n",
        "\n",
        "    def run(self):\n",
        "        # цикл\n",
        "            # Декодирование команды, работа с pc\n",
        "            if op == 'push':\n",
        "                pass # TODO\n",
        "            elif op == 'op':\n",
        "                pass # TODO\n",
        "            elif op == 'exit':\n",
        "                break\n"
      ]
    },
    {
      "cell_type": "markdown",
      "metadata": {
        "id": "cKfmFmRaQCZj"
      },
      "source": [
        "**6.3.** (уровень сложности: средний)\n",
        "\n",
        "Добавьте в виртуальную машину поддержку создания (is) и вызова (call) пользовательских функций. Также поддержите библиотечную операцию вывода символа по коду на экран (emit).\n",
        "\n",
        "Операция call извлекает адрес вызова из scope, поэтому необходимо различать варианты хранения в scope адреса функции и значения переменной. Для этого можно хранить по ключу в scope кортеж с информацией об извлекаемом значении.\n",
        "\n",
        "Проверьте результат на следующем байткоде:\n",
        "\n",
        "```Python\n",
        "[57, 8440, 129, 8704, 129, 8688, 129, 8600, 129, 8704, 129, 8576, 129, 8672,\n",
        " 129, 8672, 129, 8576, 129, 256, 129, 8728, 129, 8712, 129, 8696, 129, 8616,\n",
        " 129, 8768, 129, 8680, 129, 8688, 129, 256, 129, 8592, 129, 8792, 129, 8696,\n",
        " 129, 8688, 129, 8664, 129, 8680, 129, 8616, 129, 8680, 129, 8576, 129, 264,\n",
        " 129, 5, 0, 3, 2, 5]\n",
        " ```"
      ]
    },
    {
      "cell_type": "markdown",
      "metadata": {
        "id": "QdzvHjBbQCZj"
      },
      "source": [
        "**6.4.** (уровень сложности: высокий)\n",
        "\n",
        "Поддержите в виртуальной машине пространство имен scope и работу с локальными переменными. Значение для локальной переменной снимается с вершины стека и записывается в scope с помощью to. Во внутренних функциях видны имена переменных из объемлющих функций, но при редактировании, как и в случае локальных переменных Питона без использования nonlocal, запись осуществляется только в переменные выполняющейся функции.\n",
        "\n",
        "Проверьте результат на следующем байткоде:\n",
        "\n",
        "```Python\n",
        "[31, 256, 129, 5, 8, 4, 16, 12, 24, 20, 2, 121, 26, 10, 121, 26, 18, 121, 26, 5,\n",
        " 32, 4, 40, 12, 34, 2, 121, 26, 10, 121, 26, 5, 0, 27, 48, 4, 24, 35, 152, 43,\n",
        " 42, 2, 121, 26, 5]\n",
        "```\n",
        "\n",
        "Корректный вывод:\n",
        "\n",
        "```Python\n",
        "1 2 3 4 5 6\n",
        "```"
      ]
    },
    {
      "cell_type": "markdown",
      "metadata": {
        "id": "xV9s55ieQCZj"
      },
      "source": [
        "**6.5.** (уровень сложности: средний)\n",
        "\n",
        "Добавьте в виртуальную машину поддержку ветвлений с помощью библиотечной операции if.\n",
        "\n",
        "Работа if выглядит так:\n",
        "\n",
        "```\n",
        "значение_для_проверки адрес_функции_если_истина адрес_функции_если_ложь if\n",
        "```\n",
        "\n",
        "В исходном коде Фортика функции сами по себе безымянны и оформляются с помощью квадратных скобок. Ниже показан пример вычисления факториала:\n",
        "\n",
        "```\n",
        "[ to n  n 2 < [ 1 ] [ n n 1 - fact * ] if ] is fact\n",
        "5 fact .\n",
        "```\n",
        "\n",
        "Байткод этой программы:\n",
        "\n",
        "```Python\n",
        "[17, 8, 5, 2, 2, 8, 9, 10, 17, 5, 4, 2, 16, 65, 0, 16, 105, 5, 72, 11, 40, 10,\n",
        " 121, 5]\n",
        "```"
      ]
    },
    {
      "cell_type": "markdown",
      "metadata": {
        "id": "HkT2iRBVQCZj"
      },
      "source": [
        "**6.6.** (уровень сложности: высокий)\n",
        "\n",
        "Добавьте поддержку циклов и других недостающих операций для запуска байткода, показанного ниже.\n",
        "\n",
        "В исходном коде Фортика цикл выглядит так:\n",
        "\n",
        "```\n",
        "кол_во_итераций повторяемая_функция for\n",
        "```\n",
        "\n",
        "При этом на входе в повторяемую функцию на стек помещается число выполненных итераций.\n",
        "\n",
        "Вот пример вывода 10 звезд с помощью цикла:\n",
        "\n",
        "```\n",
        "10 [ to _  42 emit ] for\n",
        "```\n",
        "\n",
        "Следующий байткод реализует простой фрактал. Программа требует ввода числа от пользователя с помощью библиотечной операции ?.\n",
        "\n",
        "Необходимо реализовать следующие библиотечные функции:\n",
        "\n",
        "* array – выделить массив заданного размера и вернуть ссылку на него. Аргументы на стеке: размер-массива.\n",
        "* @ – прочесть элемент из массива по индексу. Аргументы на стеке: ссылка-на-массив индекс-элемента.\n",
        "* ! – записать элемент в массив по индексу. Аргументы на стеке: элемент ссылка-на-массив индекс-элемента.\n",
        "\n",
        "Попробуйте ввести 495, 149 или 186.\n",
        "\n",
        "```Python\n",
        "[116, 4, 2, 2, 5, 4, 5, 80, 129, 5, 10, 18, 17, 5, 28, 280, 34, 26, 161, 5, 5,\n",
        " 256, 34, 42, 50, 17, 58, 1, 161, 5, 60, 58, 66, 25, 18, 33, 76, 42, 66, 25, 18,\n",
        " 33, 84, 82, 18, 17, 74, 1, 92, 98, 90, 97, 8, 41, 152, 160, 105, 5, 44, 50,\n",
        " 232, 113, 5, 10, 106, 68, 50, 456, 113, 18, 25, 5, 60, 34, 42, 50, 17, 58, 1,\n",
        " 153, 129, 5, 44, 50, 568, 113, 114, 5, 124, 20, 100, 8, 122, 72, 113, 52, 50,\n",
        " 106, 17, 145, 36, 50, 106, 17, 104, 113, 50, 18, 25, 122, 496, 113, 10, 50,\n",
        " 648, 113, 5, 0, 107, 32, 11, 48, 115, 696, 131, 137, 24, 24, 130, 5]\n",
        "```"
      ]
    },
    {
      "cell_type": "markdown",
      "metadata": {
        "id": "eGJWsDfsQCZk"
      },
      "source": [
        "**6.7.** (уровень сложности: высокий)\n",
        "\n",
        "Реализуйте синтаксический разбор исходного кода Фортика с получением промежуточного представления. Это представление будет далее подаваться на вход интерпретатору Фортика. Обратите внимание, что операция exit не потребуется для интерпретатора.\n",
        "\n",
        "Например, результат разбора кода\n",
        "\n",
        "```\n",
        "[ to n  n 2 < [ 1 ] [ n n 1 - fact * ] if ] is fact\n",
        "5 fact .\n",
        "```\n",
        "\n",
        "должен выглядеть так:\n",
        "\n",
        "```Python\n",
        ">>> parse(source)\n",
        "[('push',\n",
        "  [('to', 'n'),\n",
        "   ('call', 'n'),\n",
        "   ('push', 2),\n",
        "   ('op', '<'),\n",
        "   ('push', [('push', 1)]),\n",
        "   ('push',\n",
        "    [('call', 'n'),\n",
        "     ('call', 'n'),\n",
        "     ('push', 1),\n",
        "     ('op', '-'),\n",
        "     ('call', 'fact'),\n",
        "     ('op', '*')]),\n",
        "   ('op', 'if')]),\n",
        " ('is', 'fact'),\n",
        " ('push', 5),\n",
        " ('call', 'fact'),\n",
        " ('op', '.')]\n",
        "```\n",
        "\n",
        "Для лексического разбора достаточно воспользоваться методом split. Код хорошего варианта функции parse занимает не более 17-20 строк!"
      ]
    },
    {
      "cell_type": "markdown",
      "metadata": {
        "id": "64r_xHohQCZk"
      },
      "source": [
        "**6.8.** (уровень сложности: высокий)\n",
        "\n",
        "Реализуйте интерпретатор для языка Фортик. Тщательно проверьте его на различных примерах, использующих все библиотечные операции.\n",
        "\n",
        "В частности, код фрактала должен корректно выполняться:\n",
        "\n",
        "```\n",
        "[ to a  a a ] is dup\n",
        "[ to a ] is drop\n",
        "[ 10 emit ] is cr\n",
        "[\n",
        "  to gen to scale to bits\n",
        "  1 gen [ drop scale * ] for to width\n",
        "  width dup * array to buf\n",
        "  width dup * [ to i  35 buf i ! ] for\n",
        "  width scale /\n",
        "  gen [ drop\n",
        "    dup to block\n",
        "    width [ to y\n",
        "      width [ to x\n",
        "        x block / scale % to loc-x\n",
        "        y block / scale % to loc-y\n",
        "        loc-y scale * loc-x + to loc-pos\n",
        "        bits loc-pos >> 1 & [ ] [\n",
        "          32 buf y width * x + !\n",
        "        ] if\n",
        "      ] for\n",
        "    ] for\n",
        "    scale /\n",
        "  ] for drop\n",
        "  width [ to y\n",
        "    width [ to x  buf y width * x + @ emit ] for cr\n",
        "  ] for\n",
        "] is fractal ? 3 3 fractal\n",
        "```\n",
        "\n",
        "А также должен корректно выполняться генератор имен звезд из Elite:\n",
        "\n",
        "```\n",
        "[ to a a a ] is dup\n",
        "[ to a ] is drop\n",
        "[ to a 1 a [ ] if ] is exec\n",
        "[ 10 emit ] is cr\n",
        "1 array to seed 1 seed 0 !\n",
        "[ seed 0 @ to x\n",
        "  x 13 << x ^ to x\n",
        "  x 17 >> x ^ to x\n",
        "  x 5 << x ^ 1 32 << 1 - &\n",
        "  dup seed 0 ! ] is rnd\n",
        "32 array to pairs [ ] pairs 0 ! [ 108 emit 101 emit ] pairs 1 !\n",
        "[ 120 emit 101 emit ] pairs 2 ! [ 103 emit 101 emit ] pairs 3 !\n",
        "[ 122 emit 97 emit ] pairs 4 ! [ 99 emit 101 emit ] pairs 5 !\n",
        "[ 98 emit 105 emit ] pairs 6 ! [ 115 emit 111 emit ] pairs 7 !\n",
        "[ 117 emit 115 emit ] pairs 8 ! [ 101 emit 115 emit ] pairs 9 !\n",
        "[ 97 emit 114 emit ] pairs 10 ! [ 109 emit 97 emit ] pairs 11 !\n",
        "[ 105 emit 110 emit ] pairs 12 ! [ 100 emit 105 emit ] pairs 13 !\n",
        "[ 114 emit 101 emit ] pairs 14 ! [ 97 emit ] pairs 15 !\n",
        "[ 101 emit 114 emit ] pairs 16 ! [ 97 emit 116 emit ] pairs 17 !\n",
        "[ 101 emit 110 emit ] pairs 18 ! [ 98 emit 101 emit ] pairs 19 !\n",
        "[ 114 emit 97 emit ] pairs 20 ! [ 108 emit 97 emit ] pairs 21 !\n",
        "[ 118 emit 101 emit ] pairs 22 ! [ 116 emit 105 emit ] pairs 23 !\n",
        "[ 101 emit 100 emit ] pairs 24 ! [ 111 emit 114 emit ] pairs 25 !\n",
        "[ 113 emit 117 emit ] pairs 26 ! [ 97 emit 110 emit ] pairs 27 !\n",
        "[ 116 emit 101 emit ] pairs 28 ! [ 105 emit 115 emit ] pairs 29 !\n",
        "[ 114 emit 105 emit ] pairs 30 ! [ 111 emit 110 emit ] pairs 31 !\n",
        "[ 3 rnd 1 & + [ drop pairs rnd 31 & @ exec ] for ] is gen-star\n",
        "100 [ drop gen-star cr ] for\n",
        "```"
      ]
    },
    {
      "cell_type": "markdown",
      "metadata": {
        "id": "q4yplwHrQCZk"
      },
      "source": [
        "**6.9.** (уровень сложности: высокий)\n",
        "\n",
        "Реализуйте диалоговый режим (REPL) для интерпретатора Фортика. В процессе диалога пользовательские данные должны сохраняться.\n",
        "\n",
        "Пример сеанса работы с Фортиком показан ниже:\n",
        "\n",
        "```\n",
        "> 2 2 + .\n",
        "4\n",
        "> [ to n  n n ] is dup\n",
        "\n",
        "> [ dup * ] is square\n",
        "\n",
        "> 5 square .\n",
        "25\n",
        "> 10 [ to _  42 emit ] for\n",
        "**********\n",
        "> [ to n  n 2 < [ 1 ] [ n n 1 - fact * ] if ] is fact\n",
        "\n",
        "> 5 fact .\n",
        "120\n",
        "```"
      ]
    },
    {
      "cell_type": "markdown",
      "metadata": {
        "id": "WJD3NA8YQCZl"
      },
      "source": [
        "**6.10.** (уровень сложности: хакер)\n",
        "\n",
        "Реализуйте компилятор исходного кода Фортика в байткод."
      ]
    },
    {
      "cell_type": "markdown",
      "metadata": {
        "id": "yLfv6NkCQCZl"
      },
      "source": [
        "## 7. Генератор API-документации"
      ]
    },
    {
      "cell_type": "markdown",
      "metadata": {
        "id": "jVbYtI-iQCZl"
      },
      "source": [
        "В задачах этого раздела необходимо использовать модуль inspect."
      ]
    },
    {
      "cell_type": "markdown",
      "metadata": {
        "id": "ssSNTE-5QCZl"
      },
      "source": [
        "**7.1.** (уровень сложности: высокий)\n",
        "\n",
        "Реализуйте генератор документации на модуль Питона, задаваемый именем файла. Результат необходимо генерировать в формате Markdown.\n",
        "\n",
        "Пример исходного модуля:\n",
        "\n",
        "```Python\n",
        "'''\n",
        "Описание M.\n",
        "'''\n",
        "\n",
        "\n",
        "class A:\n",
        "    '''\n",
        "    Описание A.\n",
        "    '''\n",
        "    def meth1(self, x: int) -> int:\n",
        "        '''\n",
        "        Описание meth1.\n",
        "        '''\n",
        "        return x\n",
        "\n",
        "\n",
        "class B:\n",
        "    '''\n",
        "    Описание B.\n",
        "    '''\n",
        "    def meth2(self):\n",
        "        '''\n",
        "        Описание meth2.\n",
        "        '''\n",
        "        pass\n",
        "\n",
        "    def meth3(self):\n",
        "        '''\n",
        "        Описание meth3.\n",
        "        '''\n",
        "        pass\n",
        "\n",
        "\n",
        "def func(a, b):\n",
        "    '''\n",
        "    Описание func.\n",
        "    '''\n",
        "    pass\n",
        "```\n",
        "\n",
        "Результат генерации:\n",
        "\n",
        "```Markdown\n",
        "# Модуль m\n",
        "\n",
        "Описание M.\n",
        "\n",
        "## Класс A\n",
        "\n",
        "Описание A.\n",
        "\n",
        "* **Метод** `meth1(self, x: int) -> int`\n",
        "\n",
        "Описание meth1.\n",
        "\n",
        "## Класс B\n",
        "\n",
        "Описание B.\n",
        "\n",
        "* **Метод** `meth2(self)`\n",
        "\n",
        "Описание meth2.\n",
        "\n",
        "* **Метод** `meth3(self)`\n",
        "\n",
        "Описание meth3.\n",
        "\n",
        "## Функция func\n",
        "\n",
        "Сигнатура: `func(a, b)`\n",
        "\n",
        "Описание func.\n",
        "```"
      ]
    },
    {
      "cell_type": "markdown",
      "metadata": {
        "id": "9ioFOZqLQCZl"
      },
      "source": [
        "**7.2.** (уровень сложности: высокий)\n",
        "\n",
        "Реализуйте инструмент визуализации иерархии модулей в проекте. Аргументом задается путь к проекту, а анализ модулей должен производиться включая и подкаталоги."
      ]
    },
    {
      "cell_type": "markdown",
      "metadata": {
        "id": "1-B830ybQCZl"
      },
      "source": [
        "## 8. Визуализатор графики из старых компьютерных игр"
      ]
    },
    {
      "cell_type": "markdown",
      "metadata": {
        "id": "Ff8vxYFaQCZl"
      },
      "source": [
        "Создайте визуализатор AGI-графики из старых компьютерных игр компании Sierra.\n",
        "\n",
        "В старых играх от Sierra (например, в [King's Quest](https://www.mobygames.com/game/kings-quest) 1984 года) фоновая графика была представлена в виде последовательности [команд](https://wiki.scummvm.org/index.php?title=AGI/Specifications/Pic). В целом, результат очень напоминал векторную графику. В оригинале использовалось разрешение 160x200 пикселей, но можно попробовать перерисовать картинки из King's Quest в высоком разрешении."
      ]
    },
    {
      "cell_type": "markdown",
      "metadata": {
        "id": "B1dOJzp8QCZm"
      },
      "source": [
        "**8.1.** (уровень сложности: высокий)"
      ]
    },
    {
      "cell_type": "markdown",
      "metadata": {
        "id": "tV5ptt9rQCZm"
      },
      "source": [
        "1. Реализуйте разбор команд из граф. файлов в каталоге `data/pic.*`.\n",
        "2. Нарисуйте средствами `tkinter` результат в высоком разрешении без заливки экрана. Учитывайте, что игре используется 2 типа экранов: обычный и экран приоритетов.\n",
        "\n",
        "Экран приоритетов использовался в играх для определения глубины сцены: таким образом можно было рисовать персонажей частично или полностью скрытыми объектами переднего плана. Экран приоритетов в наших задачах не применяется.\n",
        "\n",
        "Код-заготовка:"
      ]
    },
    {
      "cell_type": "code",
      "execution_count": null,
      "metadata": {
        "id": "Lt5XS5rcQCZm"
      },
      "outputs": [],
      "source": [
        "from pathlib import Path\n",
        "import tkinter as tk\n",
        "\n",
        "SCALE_X = 6\n",
        "SCALE_Y = 4\n",
        "\n",
        "COLORS = [\n",
        "    (0, 0, 0),\n",
        "    (0, 0, 168),\n",
        "    (0, 168, 0),\n",
        "    (0, 168, 168),\n",
        "    (168, 0, 0),\n",
        "    (168, 0, 168),\n",
        "    (168, 84, 0),\n",
        "    (168, 168, 168),\n",
        "    (84, 84, 84),\n",
        "    (84, 84, 252),\n",
        "    (84, 252, 84),\n",
        "    (84, 252, 252),\n",
        "    (252, 84, 84),\n",
        "    (252, 84, 252),\n",
        "    (252, 252, 84),\n",
        "    (252, 252, 252)\n",
        "]\n",
        "\n",
        "\n",
        "def draw_line(coords, color_index):\n",
        "    canvas.create_line(*[(x * SCALE_X, y * SCALE_Y) for x, y in coords],\n",
        "                       fill='#%02x%02x%02x' % COLORS[color_index], width=4)\n",
        "\n",
        "\n",
        "def draw(pic):\n",
        "    pass  # TODO\n",
        "\n",
        "\n",
        "pic = Path('data/PIC.1').read_bytes()\n",
        "canvas = tk.Canvas(width=160 * SCALE_X, height=170 * SCALE_Y)\n",
        "canvas.pack()\n",
        "draw(pic)\n",
        "tk.mainloop()"
      ]
    },
    {
      "cell_type": "markdown",
      "metadata": {
        "id": "_HXI_0LzQCZm"
      },
      "source": [
        "Пример результата работы программы:\n",
        "\n",
        "![](https://github.com/true-grue/kispython/blob/main/data/pic1.png?raw=1)"
      ]
    },
    {
      "cell_type": "markdown",
      "metadata": {
        "id": "cVbPX7QqQCZm"
      },
      "source": [
        "**8.2.** (уровень сложности: ученый)\n",
        "\n",
        "Придумайте и реализуйте способ добавить корректную цветовую заливку областей экрана для предыдущей задачи."
      ]
    },
    {
      "cell_type": "markdown",
      "metadata": {
        "id": "QlNgiYJpQCZm"
      },
      "source": [
        "## 9. Моделирование активности NPС из гипотетической ролевой игры"
      ]
    },
    {
      "cell_type": "markdown",
      "metadata": {
        "id": "XVhqpLQtQCZm"
      },
      "source": [
        "Используйте наследование и полиморфизм для моделирования действий NPC. Создайте лог в духе примера ниже:\n",
        "\n",
        "```\n",
        "К партии присоединяется маг Элрин23.\n",
        "Разбойница Шайра17 крадётся в тени.\n",
        "Орк Грогнак99 получает удар от паладина Лианор10.\n",
        "Лианор10 восклицает: \"Свет ведёт нас!\"\n",
        "Элрин23 читает заклинание: Оковы Льда.\n",
        "Гоблин Мурк5 замерзает на месте.\n",
        "Шайра17 наносит удар в спину: -12 HP Мурк5.\n",
        "Грогнак99 рычит: \"Вы заплатите за это!\"\n",
        "Воин Торбранд77 бросает топор: критический удар!\n",
        "Скелет Воин8 разваливается на кости.\n",
        "К партии присоединяется друид Элиса31.\n",
        "Элиса31 призывает волка-духа.\n",
        "Волк-дух кусает зомби Рэтч6: -9 HP.\n",
        "Зомби Рэтч6 падает замертво.\n",
        "Торбранд77 подбирает предмет: Щит Упорства.\n",
        "Шайра17 обезвреживает ловушку.\n",
        "Элрин23 говорит: \"Нам нужно отдохнуть.\"\n",
        "Маг Алистер8 входит в подземелье.\n",
        "Орк Грашак23 атакует: человек Дориан5.\n",
        "Дориан5 теряет 12 здоровья.\n",
        "Эльф Тиандра17 кастует: Огненный шар.\n",
        "Грашак23 получает 24 урона.\n",
        "Дварф Торин91 кричит: \"За сокровища предков!\"\n",
        "Тиандра17 находит: Свиток телепортации.\n",
        "Скелет Костяшка44 разрушается.\n",
        "Алистер8 получает: 120 опыта.\n",
        "Торин91 ломает: Ржавый замок.\n",
        "Вампир Мордред66 обращается в летучую мышь.\n",
        "Дориан5 использует: Зелье лечения.\n",
        "Дориан5 восстанавливает 15 здоровья.\n",
        "\n",
        "```"
      ]
    }
  ],
  "metadata": {
    "kernelspec": {
      "display_name": "Python 3",
      "language": "python",
      "name": "python3"
    },
    "language_info": {
      "codemirror_mode": {
        "name": "ipython",
        "version": 3
      },
      "file_extension": ".py",
      "mimetype": "text/x-python",
      "name": "python",
      "nbconvert_exporter": "python",
      "pygments_lexer": "ipython3",
      "version": "3.11.1"
    },
    "orig_nbformat": 4,
    "colab": {
      "provenance": []
    }
  },
  "nbformat": 4,
  "nbformat_minor": 0
}